{
  "nbformat": 4,
  "nbformat_minor": 0,
  "metadata": {
    "colab": {
      "name": "faceMaskDetectionConfusionMatrix.ipynb",
      "provenance": [],
      "mount_file_id": "111FFRobb6w-1DhLW2S1JmHxUEGSttSjc",
      "authorship_tag": "ABX9TyOClEqK09cjcZZoOzq7BlNS",
      "include_colab_link": true
    },
    "kernelspec": {
      "name": "python3",
      "display_name": "Python 3"
    },
    "language_info": {
      "name": "python"
    }
  },
  "cells": [
    {
      "cell_type": "markdown",
      "metadata": {
        "id": "view-in-github",
        "colab_type": "text"
      },
      "source": [
        "<a href=\"https://colab.research.google.com/github/RoshanChongder/Image_Processing_And_Face_Mask_Detection/blob/main/faceMaskDetectionConfusionMatrix.ipynb\" target=\"_parent\"><img src=\"https://colab.research.google.com/assets/colab-badge.svg\" alt=\"Open In Colab\"/></a>"
      ]
    },
    {
      "cell_type": "markdown",
      "metadata": {
        "id": "KIAjbwff-HwW"
      },
      "source": [
        "\n",
        "Loading the Model and importing the required modules "
      ]
    },
    {
      "cell_type": "code",
      "metadata": {
        "id": "V6qA252a-MPT"
      },
      "source": [
        "# import the required libraries \n",
        "from IPython.display import display, Javascript, Image\n",
        "from google.colab.output import eval_js\n",
        "from base64 import b64decode, b64encode\n",
        "import cv2 , os , time , html \n",
        "import numpy as np\n",
        "import PIL , io\n",
        "from keras.preprocessing import image\n",
        "from keras.models import model_from_json "
      ],
      "execution_count": null,
      "outputs": []
    },
    {
      "cell_type": "code",
      "metadata": {
        "colab": {
          "base_uri": "https://localhost:8080/"
        },
        "id": "sMZVEsaj-O6b",
        "outputId": "70113d08-f1d0-43f6-dcd9-aa9ab039c540"
      },
      "source": [
        "model = model_from_json( open('drive/MyDrive/FaceMaskDetection/TrainedModel/July16_21/Model1/fer.json','r').read() )\n",
        "model.load_weights( 'drive/MyDrive/FaceMaskDetection/TrainedModel/July16_21/Model1/fer.h5' )\n",
        "print('The model is been loadded with weights')"
      ],
      "execution_count": null,
      "outputs": [
        {
          "output_type": "stream",
          "text": [
            "The model is been loadded with weights\n"
          ],
          "name": "stdout"
        }
      ]
    },
    {
      "cell_type": "markdown",
      "metadata": {
        "id": "3GnJJwK0_4de"
      },
      "source": [
        "Supporting Methods"
      ]
    },
    {
      "cell_type": "code",
      "metadata": {
        "id": "ESuLJYZB_7Kt"
      },
      "source": [
        "# function to convert the JavaScript object into an OpenCV image\n",
        "def js_to_image(js_reply):\n",
        "  image_bytes = b64decode(js_reply.split(',')[1])\n",
        "  jpg_as_np = np.frombuffer(image_bytes, dtype=np.uint8)\n",
        "  img = cv2.imdecode(jpg_as_np, flags=1)\n",
        "  return img\n",
        "\n",
        "\n",
        "def bbox_to_bytes(bbox_array):\n",
        "  # convert array into PIL image\n",
        "  bbox_PIL = PIL.Image.fromarray(bbox_array, 'RGBA')\n",
        "  iobuf = io.BytesIO()\n",
        "  bbox_PIL.save(iobuf, format='png') # format bbox into png for return\n",
        "  bbox_bytes = 'data:image/png;base64,{}'.format((str(b64encode(iobuf.getvalue()), 'utf-8')))  # format return string\n",
        "\n",
        "  return bbox_bytes\n",
        "  "
      ],
      "execution_count": null,
      "outputs": []
    },
    {
      "cell_type": "markdown",
      "metadata": {
        "id": "srWfjPfCAA8I"
      },
      "source": [
        "Haar Cascade for face detection"
      ]
    },
    {
      "cell_type": "code",
      "metadata": {
        "id": "Ktz1p6haALN-"
      },
      "source": [
        "face_cascade = cv2.CascadeClassifier(cv2.samples.findFile(cv2.data.haarcascades + 'haarcascade_frontalface_default.xml'))"
      ],
      "execution_count": null,
      "outputs": []
    },
    {
      "cell_type": "markdown",
      "metadata": {
        "id": "ovqjgku2AVE1"
      },
      "source": [
        "Method to take the patha of the image and predict if the face in image is wearing mask or not . "
      ]
    },
    {
      "cell_type": "code",
      "metadata": {
        "id": "W2sZ2JAJAdSa"
      },
      "source": [
        "\n",
        "def predict( loc ):\n",
        "\n",
        "  ''' This method receives a location of an image .\n",
        "  Then it reads the image and then predicts if the face\n",
        "  in the image is wearing mask or not ''' \n",
        "\n",
        "\n",
        "  # read the image from the drive location that is passed \n",
        "  img = cv2.imread( loc , cv2.IMREAD_COLOR )\n",
        "  \n",
        "  # convertion to grayscale \n",
        "  gray_img = cv2.cvtColor(img, cv2.COLOR_RGB2GRAY)\n",
        "  #print(gray_img.shape)\n",
        "\n",
        "  # get face bounding box coordinates using Haar Cascade\n",
        "  faces = face_cascade.detectMultiScale(gray_img)\n",
        "  \n",
        "  # create transparent overlay for bounding box\n",
        "  bbox_array = np.zeros([480,640,4], dtype=np.uint8)\n",
        "  \n",
        "  predicted = []\n",
        "\n",
        "  # draw face bounding box on image\n",
        "  for (x,y,w,h) in faces:\n",
        "\n",
        "      img = cv2.rectangle(img,(x,y),(x+w,y+h),(255,0,0),2) # placing the rectangle around the face \n",
        "      cropped_gray = gray_img[y:y+w,x:x+h]  # cropping the face from the image \n",
        "      cropped_gray = cv2.resize(cropped_gray,(48,48)) # resizing the image \n",
        "      img_pixels = image.img_to_array(cropped_gray)  # getting the image pixeles into array \n",
        "      img_pixels = np.expand_dims(img_pixels, axis = 0) # expanding dim \n",
        "      img_pixels /= 255\n",
        "\n",
        "      predictions = model.predict(img_pixels)  # predicting \n",
        "        #print( predictions )\n",
        "        #find max indexed array\n",
        "      index = np.argmax(predictions[0]) \n",
        "        \n",
        "      emotions = ('with_mask' , 'without_mask') \n",
        "      predicted_emotion = emotions[index]  \n",
        "      predicted.append( index  )\n",
        "      #print( predicted_emotion )\n",
        "      cv2.putText( img, predicted_emotion, (int(x), int(y)), cv2.FONT_HERSHEY_SIMPLEX, 1, (0,0,255), 2)\n",
        " \n",
        "  return [ img , predicted ] "
      ],
      "execution_count": null,
      "outputs": []
    },
    {
      "cell_type": "markdown",
      "metadata": {
        "id": "3cuY1fAPBvSv"
      },
      "source": [
        "Method to Traverse over the testing images and Call predict method for prediction"
      ]
    },
    {
      "cell_type": "code",
      "metadata": {
        "colab": {
          "base_uri": "https://localhost:8080/"
        },
        "id": "sChF2zJRB8OD",
        "outputId": "33f8f487-9bb7-418f-fb71-2812007a0107"
      },
      "source": [
        "# from where all the images will be read \n",
        "directory = 'drive/MyDrive/FaceMaskDetection/TestData'   \n",
        "\n",
        "# d is for directory refference and tag  \n",
        "# actual and pre will store actual emotion and predicted emotion \n",
        "d , actual , pre = { \"with_mask\" : 0 , \"without_mask\" : 1  } , [] , [] \n",
        "\n",
        "for dir in os.listdir(directory) : \n",
        "  tag = None \n",
        "  \n",
        "  if dir in d :\n",
        "    tag = d[dir]  # getting the tag correspondin to the dir  \n",
        "  else :\n",
        "    print( dir , \" not found in \" , d )\n",
        "    break \n",
        "\n",
        "  subdir = os.path.join( directory, dir ) # selecting a certain sub-directory \n",
        "  print( \"Processing the direcotry : \" , subdir , \"\\n\\n\")\n",
        "\n",
        "  for files in os.listdir(subdir) :\n",
        "    try :\n",
        "      name = os.path.join( subdir , files ) # name of the file \n",
        "      if os.path.isfile( name ):\n",
        "        img , predicted = predict( name )  # calling take with image location in drive  \n",
        "        if len(predicted) != 0 :\n",
        "          print( \"Actual \" , tag , \"Predicted value \" , predicted )  # printing the predicted value\n",
        "          actual.append(tag) # for debugging \n",
        "          pre.append(  tag if ( tag in predicted ) else predicted[0]  )\n",
        "          print(actual[-1] , pre[-1]) # for debugging \n",
        "          cv2.imwrite( subdir + \"/predicted/\" + files , img  ) \n",
        "        else :\n",
        "          print(\"Model not able to predict for \" , name )\n",
        "    except Exception as err:\n",
        "      # Errors will be thrown if the user does not have a webcam or if they do not\n",
        "      # grant the page permission to access it.\n",
        "      print(str(err))\n",
        "\n",
        "print(actual , pre )\n",
        " "
      ],
      "execution_count": null,
      "outputs": [
        {
          "output_type": "stream",
          "text": [
            "Processing the direcotry :  drive/MyDrive/FaceMaskDetection/TestData/without_mask \n",
            "\n",
            "\n",
            "Actual  1 Predicted value  [1]\n",
            "1 1\n",
            "Actual  1 Predicted value  [1]\n",
            "1 1\n",
            "Actual  1 Predicted value  [1]\n",
            "1 1\n",
            "Actual  1 Predicted value  [1]\n",
            "1 1\n",
            "Actual  1 Predicted value  [1]\n",
            "1 1\n",
            "Actual  1 Predicted value  [1]\n",
            "1 1\n",
            "Actual  1 Predicted value  [0]\n",
            "1 0\n",
            "Actual  1 Predicted value  [0]\n",
            "1 0\n",
            "Actual  1 Predicted value  [0]\n",
            "1 0\n",
            "Actual  1 Predicted value  [1]\n",
            "1 1\n",
            "Actual  1 Predicted value  [1]\n",
            "1 1\n",
            "Actual  1 Predicted value  [1]\n",
            "1 1\n",
            "Actual  1 Predicted value  [0]\n",
            "1 0\n",
            "Actual  1 Predicted value  [1]\n",
            "1 1\n",
            "Model not able to predict for  drive/MyDrive/FaceMaskDetection/TestData/without_mask/268.jpg\n",
            "Actual  1 Predicted value  [0]\n",
            "1 0\n",
            "Actual  1 Predicted value  [0]\n",
            "1 0\n",
            "Actual  1 Predicted value  [0]\n",
            "1 0\n",
            "Actual  1 Predicted value  [1, 0]\n",
            "1 1\n",
            "Actual  1 Predicted value  [0]\n",
            "1 0\n",
            "Actual  1 Predicted value  [1]\n",
            "1 1\n",
            "Actual  1 Predicted value  [0]\n",
            "1 0\n",
            "Actual  1 Predicted value  [0, 0]\n",
            "1 0\n",
            "Actual  1 Predicted value  [1]\n",
            "1 1\n",
            "Actual  1 Predicted value  [1]\n",
            "1 1\n",
            "Actual  1 Predicted value  [0]\n",
            "1 0\n",
            "Actual  1 Predicted value  [0]\n",
            "1 0\n",
            "Actual  1 Predicted value  [0]\n",
            "1 0\n",
            "Actual  1 Predicted value  [1]\n",
            "1 1\n",
            "Actual  1 Predicted value  [0, 0, 0]\n",
            "1 0\n",
            "Actual  1 Predicted value  [1]\n",
            "1 1\n",
            "Actual  1 Predicted value  [0]\n",
            "1 0\n",
            "Actual  1 Predicted value  [0]\n",
            "1 0\n",
            "Actual  1 Predicted value  [0]\n",
            "1 0\n",
            "Actual  1 Predicted value  [0]\n",
            "1 0\n",
            "Actual  1 Predicted value  [0]\n",
            "1 0\n",
            "Actual  1 Predicted value  [0]\n",
            "1 0\n",
            "Actual  1 Predicted value  [0]\n",
            "1 0\n",
            "Actual  1 Predicted value  [1]\n",
            "1 1\n",
            "Actual  1 Predicted value  [1]\n",
            "1 1\n",
            "Actual  1 Predicted value  [0]\n",
            "1 0\n",
            "Actual  1 Predicted value  [1]\n",
            "1 1\n",
            "Actual  1 Predicted value  [1]\n",
            "1 1\n",
            "Actual  1 Predicted value  [0]\n",
            "1 0\n",
            "Actual  1 Predicted value  [1]\n",
            "1 1\n",
            "Actual  1 Predicted value  [1]\n",
            "1 1\n",
            "Actual  1 Predicted value  [1]\n",
            "1 1\n",
            "Actual  1 Predicted value  [1]\n",
            "1 1\n",
            "Actual  1 Predicted value  [1]\n",
            "1 1\n",
            "Actual  1 Predicted value  [0]\n",
            "1 0\n",
            "Actual  1 Predicted value  [0]\n",
            "1 0\n",
            "Actual  1 Predicted value  [1]\n",
            "1 1\n",
            "Model not able to predict for  drive/MyDrive/FaceMaskDetection/TestData/without_mask/21.jpg\n",
            "Actual  1 Predicted value  [1]\n",
            "1 1\n",
            "Actual  1 Predicted value  [0]\n",
            "1 0\n",
            "Actual  1 Predicted value  [0]\n",
            "1 0\n",
            "Actual  1 Predicted value  [0]\n",
            "1 0\n",
            "Actual  1 Predicted value  [0]\n",
            "1 0\n",
            "Actual  1 Predicted value  [0]\n",
            "1 0\n",
            "Actual  1 Predicted value  [1]\n",
            "1 1\n",
            "Actual  1 Predicted value  [1]\n",
            "1 1\n",
            "Actual  1 Predicted value  [1]\n",
            "1 1\n",
            "Actual  1 Predicted value  [0]\n",
            "1 0\n",
            "Actual  1 Predicted value  [1, 0]\n",
            "1 1\n",
            "Actual  1 Predicted value  [0]\n",
            "1 0\n",
            "Actual  1 Predicted value  [1]\n",
            "1 1\n",
            "Actual  1 Predicted value  [0, 1]\n",
            "1 1\n",
            "Actual  1 Predicted value  [1]\n",
            "1 1\n",
            "Actual  1 Predicted value  [1, 0, 0]\n",
            "1 1\n",
            "Actual  1 Predicted value  [0]\n",
            "1 0\n",
            "Actual  1 Predicted value  [1]\n",
            "1 1\n",
            "Processing the direcotry :  drive/MyDrive/FaceMaskDetection/TestData/with_mask \n",
            "\n",
            "\n",
            "Model not able to predict for  drive/MyDrive/FaceMaskDetection/TestData/with_mask/248-with-mask.jpg\n",
            "Model not able to predict for  drive/MyDrive/FaceMaskDetection/TestData/with_mask/258-with-mask.jpg\n",
            "Actual  0 Predicted value  [0]\n",
            "0 0\n",
            "Actual  0 Predicted value  [0]\n",
            "0 0\n",
            "Model not able to predict for  drive/MyDrive/FaceMaskDetection/TestData/with_mask/247-with-mask.jpg\n",
            "Actual  0 Predicted value  [0]\n",
            "0 0\n",
            "Actual  0 Predicted value  [0]\n",
            "0 0\n",
            "Model not able to predict for  drive/MyDrive/FaceMaskDetection/TestData/with_mask/403-with-mask.jpg\n",
            "Actual  0 Predicted value  [0]\n",
            "0 0\n",
            "Actual  0 Predicted value  [0]\n",
            "0 0\n",
            "Actual  0 Predicted value  [0]\n",
            "0 0\n",
            "Model not able to predict for  drive/MyDrive/FaceMaskDetection/TestData/with_mask/469-with-mask.jpg\n",
            "Actual  0 Predicted value  [0]\n",
            "0 0\n",
            "Model not able to predict for  drive/MyDrive/FaceMaskDetection/TestData/with_mask/66-with-mask.jpg\n",
            "Model not able to predict for  drive/MyDrive/FaceMaskDetection/TestData/with_mask/292-with-mask.jpg\n",
            "Actual  0 Predicted value  [0]\n",
            "0 0\n",
            "Model not able to predict for  drive/MyDrive/FaceMaskDetection/TestData/with_mask/280-with-mask.jpg\n",
            "Model not able to predict for  drive/MyDrive/FaceMaskDetection/TestData/with_mask/363-with-mask.jpg\n",
            "Actual  0 Predicted value  [0]\n",
            "0 0\n",
            "Actual  0 Predicted value  [0]\n",
            "0 0\n",
            "Actual  0 Predicted value  [0]\n",
            "0 0\n",
            "Actual  0 Predicted value  [0]\n",
            "0 0\n",
            "Actual  0 Predicted value  [0]\n",
            "0 0\n",
            "Actual  0 Predicted value  [0]\n",
            "0 0\n",
            "Actual  0 Predicted value  [0]\n",
            "0 0\n",
            "Model not able to predict for  drive/MyDrive/FaceMaskDetection/TestData/with_mask/465-with-mask.jpg\n",
            "Model not able to predict for  drive/MyDrive/FaceMaskDetection/TestData/with_mask/20-with-mask.jpg\n",
            "Model not able to predict for  drive/MyDrive/FaceMaskDetection/TestData/with_mask/470-with-mask.jpg\n",
            "Model not able to predict for  drive/MyDrive/FaceMaskDetection/TestData/with_mask/428-with-mask.jpg\n",
            "Model not able to predict for  drive/MyDrive/FaceMaskDetection/TestData/with_mask/312-with-mask.jpg\n",
            "Model not able to predict for  drive/MyDrive/FaceMaskDetection/TestData/with_mask/437-with-mask.jpg\n",
            "Model not able to predict for  drive/MyDrive/FaceMaskDetection/TestData/with_mask/329-with-mask.jpg\n",
            "Actual  0 Predicted value  [0]\n",
            "0 0\n",
            "Actual  0 Predicted value  [0]\n",
            "0 0\n",
            "Actual  0 Predicted value  [0]\n",
            "0 0\n",
            "Actual  0 Predicted value  [0]\n",
            "0 0\n",
            "Actual  0 Predicted value  [0]\n",
            "0 0\n",
            "Actual  0 Predicted value  [0]\n",
            "0 0\n",
            "Model not able to predict for  drive/MyDrive/FaceMaskDetection/TestData/with_mask/412-with-mask.jpg\n",
            "Actual  0 Predicted value  [0]\n",
            "0 0\n",
            "Model not able to predict for  drive/MyDrive/FaceMaskDetection/TestData/with_mask/87-with-mask.jpg\n",
            "Model not able to predict for  drive/MyDrive/FaceMaskDetection/TestData/with_mask/264-with-mask.jpg\n",
            "Actual  0 Predicted value  [0, 0, 0]\n",
            "0 0\n",
            "Model not able to predict for  drive/MyDrive/FaceMaskDetection/TestData/with_mask/44-with-mask.jpg\n",
            "Model not able to predict for  drive/MyDrive/FaceMaskDetection/TestData/with_mask/60-with-mask.jpg\n",
            "Model not able to predict for  drive/MyDrive/FaceMaskDetection/TestData/with_mask/410-with-mask.jpg\n",
            "Model not able to predict for  drive/MyDrive/FaceMaskDetection/TestData/with_mask/58-with-mask.jpg\n",
            "Actual  0 Predicted value  [0]\n",
            "0 0\n",
            "Model not able to predict for  drive/MyDrive/FaceMaskDetection/TestData/with_mask/271-with-mask.jpg\n",
            "Model not able to predict for  drive/MyDrive/FaceMaskDetection/TestData/with_mask/230-with-mask.jpg\n",
            "Actual  0 Predicted value  [0]\n",
            "0 0\n",
            "Model not able to predict for  drive/MyDrive/FaceMaskDetection/TestData/with_mask/142-with-mask.jpg\n",
            "Actual  0 Predicted value  [0]\n",
            "0 0\n",
            "Actual  0 Predicted value  [0]\n",
            "0 0\n",
            "Actual  0 Predicted value  [0]\n",
            "0 0\n",
            "Actual  0 Predicted value  [1, 0]\n",
            "0 0\n",
            "Model not able to predict for  drive/MyDrive/FaceMaskDetection/TestData/with_mask/310-with-mask.jpg\n",
            "Actual  0 Predicted value  [0, 0]\n",
            "0 0\n",
            "Actual  0 Predicted value  [0]\n",
            "0 0\n",
            "Actual  0 Predicted value  [0, 0]\n",
            "0 0\n",
            "Model not able to predict for  drive/MyDrive/FaceMaskDetection/TestData/with_mask/69-with-mask.jpg\n",
            "Model not able to predict for  drive/MyDrive/FaceMaskDetection/TestData/with_mask/266-with-mask.jpg\n",
            "Model not able to predict for  drive/MyDrive/FaceMaskDetection/TestData/with_mask/164-with-mask.jpg\n",
            "Model not able to predict for  drive/MyDrive/FaceMaskDetection/TestData/with_mask/220-with-mask.jpg\n",
            "Model not able to predict for  drive/MyDrive/FaceMaskDetection/TestData/with_mask/213-with-mask.jpg\n",
            "Actual  0 Predicted value  [0]\n",
            "0 0\n",
            "Actual  0 Predicted value  [0]\n",
            "0 0\n",
            "Model not able to predict for  drive/MyDrive/FaceMaskDetection/TestData/with_mask/55-with-mask.jpg\n",
            "Model not able to predict for  drive/MyDrive/FaceMaskDetection/TestData/with_mask/210-with-mask.jpg\n",
            "Model not able to predict for  drive/MyDrive/FaceMaskDetection/TestData/with_mask/352-with-mask.jpg\n",
            "Model not able to predict for  drive/MyDrive/FaceMaskDetection/TestData/with_mask/423-with-mask.jpg\n",
            "[1, 1, 1, 1, 1, 1, 1, 1, 1, 1, 1, 1, 1, 1, 1, 1, 1, 1, 1, 1, 1, 1, 1, 1, 1, 1, 1, 1, 1, 1, 1, 1, 1, 1, 1, 1, 1, 1, 1, 1, 1, 1, 1, 1, 1, 1, 1, 1, 1, 1, 1, 1, 1, 1, 1, 1, 1, 1, 1, 1, 1, 1, 1, 1, 1, 1, 1, 1, 1, 0, 0, 0, 0, 0, 0, 0, 0, 0, 0, 0, 0, 0, 0, 0, 0, 0, 0, 0, 0, 0, 0, 0, 0, 0, 0, 0, 0, 0, 0, 0, 0, 0, 0, 0] [1, 1, 1, 1, 1, 1, 0, 0, 0, 1, 1, 1, 0, 1, 0, 0, 0, 1, 0, 1, 0, 0, 1, 1, 0, 0, 0, 1, 0, 1, 0, 0, 0, 0, 0, 0, 0, 1, 1, 0, 1, 1, 0, 1, 1, 1, 1, 1, 0, 0, 1, 1, 0, 0, 0, 0, 0, 1, 1, 1, 0, 1, 0, 1, 1, 1, 1, 0, 1, 0, 0, 0, 0, 0, 0, 0, 0, 0, 0, 0, 0, 0, 0, 0, 0, 0, 0, 0, 0, 0, 0, 0, 0, 0, 0, 0, 0, 0, 0, 0, 0, 0, 0, 0]\n"
          ],
          "name": "stdout"
        }
      ]
    },
    {
      "cell_type": "markdown",
      "metadata": {
        "id": "Aa7my06HGqBF"
      },
      "source": [
        "Plotting confusion Matrix"
      ]
    },
    {
      "cell_type": "code",
      "metadata": {
        "id": "Ql7O38-LGsBB"
      },
      "source": [
        "%matplotlib inline \n",
        "import matplotlib.pyplot as plt  \n",
        "import itertools \n",
        "from sklearn.metrics import confusion_matrix"
      ],
      "execution_count": null,
      "outputs": []
    },
    {
      "cell_type": "code",
      "metadata": {
        "id": "_krpJGHrGu7W"
      },
      "source": [
        "c_matrix = confusion_matrix(y_true = actual , y_pred = pre )\n",
        "def plot_confusion_matrix( cm, classes, normalize=False, title='Confusion matrix', cmap=plt.cm.Blues):\n",
        "    \"\"\"\n",
        "    This function prints and plots the confusion matrix.\n",
        "    Normalization can be applied by setting `normalize=True`.\n",
        "    \"\"\"\n",
        "    plt.imshow(cm, interpolation='nearest', cmap=cmap)\n",
        "    plt.colorbar()\n",
        "    plt.title(title)\n",
        "    tick_marks = np.arange(len(classes))\n",
        "    plt.xticks(tick_marks, classes, rotation=45)\n",
        "    plt.yticks(tick_marks, classes)\n",
        "\n",
        "    if normalize:\n",
        "        cm = cm.astype('float') / cm.sum(axis=1)[:, np.newaxis]\n",
        "        print(\"Normalized confusion matrix\")\n",
        "    else:\n",
        "        print('Confusion matrix, without normalization')\n",
        "\n",
        "    print(cm)\n",
        "\n",
        "    thresh = cm.max() / 2.\n",
        "    for i, j in itertools.product(range(cm.shape[0]), range(cm.shape[1])):\n",
        "        plt.text(j, i, cm[i, j],\n",
        "            horizontalalignment=\"center\",\n",
        "            color=\"white\" if cm[i, j] > thresh else \"black\")\n",
        "\n",
        "    plt.tight_layout()\n",
        "    plt.ylabel('True label')\n",
        "    plt.xlabel('Predicted label')\n",
        "    "
      ],
      "execution_count": null,
      "outputs": []
    },
    {
      "cell_type": "code",
      "metadata": {
        "colab": {
          "base_uri": "https://localhost:8080/",
          "height": 365
        },
        "id": "abkND4WSGxzH",
        "outputId": "9f266ed3-2ea5-4f04-99a8-1bf8d0088e0a"
      },
      "source": [
        "plot_labels = ['with_Mask' , 'without_Mask']\n",
        "plot_confusion_matrix( cm = c_matrix , classes = plot_labels , title='Confusion Matrix' )"
      ],
      "execution_count": null,
      "outputs": [
        {
          "output_type": "stream",
          "text": [
            "Confusion matrix, without normalization\n",
            "[[35  0]\n",
            " [33 36]]\n"
          ],
          "name": "stdout"
        },
        {
          "output_type": "display_data",
          "data": {
            "image/png": "[encoded data removed]",
            "text/plain": [
              "<Figure size 432x288 with 2 Axes>"
            ]
          },
          "metadata": {
            "tags": [],
            "needs_background": "light"
          }
        }
      ]
    },
    {
      "cell_type": "markdown",
      "metadata": {
        "id": "rpMzNw8o1D39"
      },
      "source": [
        "Normalized Confusion Matrix "
      ]
    },
    {
      "cell_type": "code",
      "metadata": {
        "colab": {
          "base_uri": "https://localhost:8080/",
          "height": 365
        },
        "id": "pvpuDUkX1JhE",
        "outputId": "0484f447-f914-4fd1-c0f9-39719d85732b"
      },
      "source": [
        "# this can also be done using the sklearn library \n",
        "def percent_confusion_matrix( cm ) :\n",
        "  pcm = []   # confusion matrix in percentage \n",
        "  for i in cm :\n",
        "    total_images , temp = sum(i) , [] \n",
        "    for j in i :\n",
        "      temp.append(round(j/total_images , 2 ) )\n",
        "    pcm.append(temp)\n",
        "  return pcm\n",
        "plot_confusion_matrix( cm = np.array(percent_confusion_matrix(c_matrix)) , classes = plot_labels , title=' Confusion Matrix in percentage ' )\n",
        "\n",
        "# nc_matrix = confusion_matrix( y_true = actual , y_pred = pre , normalize = 'true' )\n",
        "# print(nc_matrix)"
      ],
      "execution_count": null,
      "outputs": [
        {
          "output_type": "stream",
          "text": [
            "Confusion matrix, without normalization\n",
            "[[1.   0.  ]\n",
            " [0.48 0.52]]\n"
          ],
          "name": "stdout"
        },
        {
          "output_type": "display_data",
          "data": {
            "image/png": "[encoded data removed]",
            "text/plain": [
              "<Figure size 432x288 with 2 Axes>"
            ]
          },
          "metadata": {
            "tags": [],
            "needs_background": "light"
          }
        }
      ]
    },
    {
      "cell_type": "markdown",
      "metadata": {
        "id": "T22YcJ5f2dKK"
      },
      "source": [
        "Computing Scores "
      ]
    },
    {
      "cell_type": "code",
      "metadata": {
        "id": "DE2dm2QT2ert",
        "colab": {
          "base_uri": "https://localhost:8080/"
        },
        "outputId": "45b67f62-90a4-4347-e8f8-48fb89db0cbd"
      },
      "source": [
        "from sklearn.metrics import classification_report \n",
        "print( classification_report( y_true = actual , y_pred = pre , target_names = plot_labels ) )"
      ],
      "execution_count": null,
      "outputs": [
        {
          "output_type": "stream",
          "text": [
            "              precision    recall  f1-score   support\n",
            "\n",
            "   with_Mask       0.51      1.00      0.68        35\n",
            "without_Mask       1.00      0.52      0.69        69\n",
            "\n",
            "    accuracy                           0.68       104\n",
            "   macro avg       0.76      0.76      0.68       104\n",
            "weighted avg       0.84      0.68      0.68       104\n",
            "\n"
          ],
          "name": "stdout"
        }
      ]
    }
  ]
}